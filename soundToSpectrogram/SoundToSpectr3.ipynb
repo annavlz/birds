{
 "cells": [
  {
   "cell_type": "code",
   "execution_count": 3,
   "metadata": {},
   "outputs": [],
   "source": [
    "import wavio\n",
    "import numpy as np\n",
    "import matplotlib.pyplot as plt\n",
    "\n",
    "%matplotlib inline\n",
    "plt.rc('figure', figsize=(16, 4))"
   ]
  },
  {
   "cell_type": "code",
   "execution_count": 4,
   "metadata": {},
   "outputs": [],
   "source": [
    "wavobj = wavio.read('birds.wav')\n",
    "fs = wavobj.rate\n",
    "data = wavobj.data \n",
    "data = data.astype('float')\n",
    "data = data[:, 0]"
   ]
  },
  {
   "cell_type": "code",
   "execution_count": 5,
   "metadata": {},
   "outputs": [],
   "source": [
    "def convertAmpltoSpec(x,fs,inc):\n",
    "    \"\"\" Unit conversion \"\"\"\n",
    "    return x*fs/inc"
   ]
  },
  {
   "cell_type": "code",
   "execution_count": 6,
   "metadata": {},
   "outputs": [],
   "source": [
    "window_width=256\n",
    "incr=128\n",
    "window = 0.5 * (1 - np.cos(2 * np.pi * np.arange(window_width) / (window_width - 1)))\n",
    "data -= data.mean()\n",
    "starts = range(0, len(data) - window_width, incr)\n",
    "ft = np.zeros((len(starts), window_width))\n",
    "for i in starts:\n",
    "    ft[i / incr, :] = window * data[i:i + window_width]\n",
    "ft = np.fft.fft(ft)\n",
    "sg = np.absolute(ft[:, :window_width / 2])\n",
    "# sg = 100.*np.log10(sg)"
   ]
  },
  {
   "cell_type": "code",
   "execution_count": 63,
   "metadata": {},
   "outputs": [
    {
     "name": "stdout",
     "output_type": "stream",
     "text": [
      "0.05409691236457891\n"
     ]
    }
   ],
   "source": [
    "print(convertAmpltoSpec(sg[5][100], fs, incr))"
   ]
  },
  {
   "cell_type": "code",
   "execution_count": 9,
   "metadata": {},
   "outputs": [
    {
     "name": "stdout",
     "output_type": "stream",
     "text": [
      "(1645L, 128L)\n"
     ]
    }
   ],
   "source": [
    "print(sg.shape)"
   ]
  }
 ],
 "metadata": {
  "kernelspec": {
   "display_name": "Python 2",
   "language": "python",
   "name": "python2"
  },
  "language_info": {
   "codemirror_mode": {
    "name": "ipython",
    "version": 2
   },
   "file_extension": ".py",
   "mimetype": "text/x-python",
   "name": "python",
   "nbconvert_exporter": "python",
   "pygments_lexer": "ipython2",
   "version": "2.7.14"
  }
 },
 "nbformat": 4,
 "nbformat_minor": 2
}
