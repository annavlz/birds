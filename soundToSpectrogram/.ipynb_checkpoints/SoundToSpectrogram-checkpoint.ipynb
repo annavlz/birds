{
 "cells": [
  {
   "cell_type": "code",
   "execution_count": 1,
   "metadata": {},
   "outputs": [
    {
     "name": "stderr",
     "output_type": "stream",
     "text": [
      "C:\\ProgramData\\Anaconda2\\lib\\site-packages\\pydub\\utils.py:165: RuntimeWarning: Couldn't find ffmpeg or avconv - defaulting to ffmpeg, but may not work\n",
      "  warn(\"Couldn't find ffmpeg or avconv - defaulting to ffmpeg, but may not work\", RuntimeWarning)\n"
     ]
    }
   ],
   "source": [
    "from IPython.display import Audio, display\n",
    "import matplotlib.pyplot as plt\n",
    "from numpy import fft\n",
    "import numpy as np\n",
    "import pydub\n",
    "import scipy\n",
    "from scipy.fftpack import fft\n",
    "from scipy.io import wavfile\n",
    "import urllib\n"
   ]
  },
  {
   "cell_type": "code",
   "execution_count": null,
   "metadata": {},
   "outputs": [],
   "source": [
    "\n",
    "\n",
    "AUDIO_URL='http://downloads.bbc.co.uk/rmhttp/radio4/science/Birdsong-Blackbird.mp3'\n",
    "temp_folder = '/home/bill/data/tmp/'\n",
    "\n",
    "\n",
    "urllib.request.urlretrieve(AUDIO_URL, temp_folder+'file.mp3')\n",
    "#read mp3 file\n",
    "mp3 = pydub.AudioSegment.from_mp3(temp_folder+\"file.mp3\")\n",
    "#convert to wav\n",
    "mp3.export(temp_folder+\"file.wav\", format=\"wav\")\n",
    "#read wav file\n",
    "freq, audio_data = scipy.io.wavfile.read(temp_folder+\"file.wav\")\n",
    "length = audio_data.shape[0]/freq\n",
    "channels = audio_data.shape[1]\n",
    "print('freq: {} length: {} channels: {}'.format(freq, length, channels))\n",
    "#if stereo grab both channels\n",
    "channel1 = audio_data[:,0] #left\n",
    "channel2 = audio_data[:,1] #right\n",
    "\n",
    "#create a time variable in seconds\n",
    "time = np.arange(0, float(audio_data.shape[0]), 1) / freq\n",
    "\n",
    "#plot amplitude (or loudness) over time\n",
    "plt.figure(1)\n",
    "plt.subplot(211)\n",
    "plt.plot(time, channel1, linewidth=0.01, alpha=0.7, color='#ff7f00')\n",
    "plt.xlabel('Time (s)')\n",
    "plt.ylabel('Amplitude')\n",
    "plt.subplot(212)\n",
    "plt.plot(time, channel2, linewidth=0.01, alpha=0.7, color='#ff7f00')\n",
    "plt.xlabel('Time (s)')\n",
    "plt.ylabel('Amplitude')\n",
    "plt.show()\n",
    "\n",
    "\n",
    "fourier=fft(channel1)\n",
    "\n",
    "n = len(channel1)\n",
    "fourier = fourier[0:int(n/2)]\n",
    "\n",
    "# scale by the number of points so that the magnitude does not depend on the length\n",
    "fourier = fourier / float(n)\n",
    "\n",
    "#calculate the frequency at each point in Hz\n",
    "freq_array = np.arange(0, (n/2), 1.0) * (freq*1.0/n);\n",
    "\n",
    "plt.plot(freq_array/1000, 10*np.log10(fourier), color='#ff7f00', linewidth=0.02)\n",
    "plt.xlabel('frequency in kHz')\n",
    "plt.ylabel('power in dB')\n",
    "plt.savefig(temp_folder+'spectrogram.png')"
   ]
  },
  {
   "cell_type": "code",
   "execution_count": null,
   "metadata": {},
   "outputs": [],
   "source": []
  }
 ],
 "metadata": {
  "kernelspec": {
   "display_name": "Python 2",
   "language": "python",
   "name": "python2"
  },
  "language_info": {
   "codemirror_mode": {
    "name": "ipython",
    "version": 2
   },
   "file_extension": ".py",
   "mimetype": "text/x-python",
   "name": "python",
   "nbconvert_exporter": "python",
   "pygments_lexer": "ipython2",
   "version": "2.7.14"
  }
 },
 "nbformat": 4,
 "nbformat_minor": 2
}
